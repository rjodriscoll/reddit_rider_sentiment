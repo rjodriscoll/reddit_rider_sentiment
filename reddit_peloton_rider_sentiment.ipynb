{
 "cells": [
  {
   "cell_type": "code",
   "execution_count": 1,
   "id": "bound-substitute",
   "metadata": {},
   "outputs": [
    {
     "name": "stderr",
     "output_type": "stream",
     "text": [
      "[nltk_data] Downloading package vader_lexicon to\n",
      "[nltk_data]     C:\\Users\\ruair\\AppData\\Roaming\\nltk_data...\n",
      "[nltk_data]   Package vader_lexicon is already up-to-date!\n"
     ]
    }
   ],
   "source": [
    "import functions"
   ]
  },
  {
   "cell_type": "markdown",
   "id": "duplicate-monroe",
   "metadata": {},
   "source": [
    "First the scrape_reddit function is run, this will extract the reddit comments from the 'hot' posts. For example, setting limit = 10 will return the 10 hotest posts that are not 'RFL' posts."
   ]
  },
  {
   "cell_type": "code",
   "execution_count": 2,
   "id": "fuzzy-cleaners",
   "metadata": {},
   "outputs": [
    {
     "name": "stderr",
     "output_type": "stream",
     "text": [
      "Version 7.0.0 of praw is outdated. Version 7.4.0 was released Friday July 30, 2021.\n"
     ]
    },
    {
     "data": {
      "text/html": [
       "<div>\n",
       "<style scoped>\n",
       "    .dataframe tbody tr th:only-of-type {\n",
       "        vertical-align: middle;\n",
       "    }\n",
       "\n",
       "    .dataframe tbody tr th {\n",
       "        vertical-align: top;\n",
       "    }\n",
       "\n",
       "    .dataframe thead th {\n",
       "        text-align: right;\n",
       "    }\n",
       "</style>\n",
       "<table border=\"1\" class=\"dataframe\">\n",
       "  <thead>\n",
       "    <tr style=\"text-align: right;\">\n",
       "      <th></th>\n",
       "      <th>post_id</th>\n",
       "      <th>post_title</th>\n",
       "      <th>post_author</th>\n",
       "      <th>post_time</th>\n",
       "      <th>post_score</th>\n",
       "      <th>post_ratio</th>\n",
       "      <th>comment_id</th>\n",
       "      <th>comment_author</th>\n",
       "      <th>comment_body</th>\n",
       "      <th>comment_score</th>\n",
       "      <th>comment_contriv</th>\n",
       "      <th>parent_id</th>\n",
       "    </tr>\n",
       "  </thead>\n",
       "  <tbody>\n",
       "    <tr>\n",
       "      <th>0</th>\n",
       "      <td>pv2k3d</td>\n",
       "      <td>[Results Thread] 2021 UCI Road World Champions...</td>\n",
       "      <td>PelotonMod</td>\n",
       "      <td>1.632558e+09</td>\n",
       "      <td>34</td>\n",
       "      <td>0.97</td>\n",
       "      <td>he79t95</td>\n",
       "      <td>childfromthefuture</td>\n",
       "      <td>if anyone has a clip of the final with magnus ...</td>\n",
       "      <td>19</td>\n",
       "      <td>0</td>\n",
       "      <td>pv2k3d</td>\n",
       "    </tr>\n",
       "    <tr>\n",
       "      <th>1</th>\n",
       "      <td>pv2k3d</td>\n",
       "      <td>[Results Thread] 2021 UCI Road World Champions...</td>\n",
       "      <td>PelotonMod</td>\n",
       "      <td>1.632558e+09</td>\n",
       "      <td>34</td>\n",
       "      <td>0.97</td>\n",
       "      <td>he75ioc</td>\n",
       "      <td>dedfrmthneckup</td>\n",
       "      <td>listening to magnus commentate on that was pre...</td>\n",
       "      <td>19</td>\n",
       "      <td>0</td>\n",
       "      <td>pv2k3d</td>\n",
       "    </tr>\n",
       "    <tr>\n",
       "      <th>2</th>\n",
       "      <td>pv2k3d</td>\n",
       "      <td>[Results Thread] 2021 UCI Road World Champions...</td>\n",
       "      <td>PelotonMod</td>\n",
       "      <td>1.632558e+09</td>\n",
       "      <td>34</td>\n",
       "      <td>0.97</td>\n",
       "      <td>he75jh5</td>\n",
       "      <td>epi_counts</td>\n",
       "      <td>very happy for backstedt, both zoey and magnus...</td>\n",
       "      <td>19</td>\n",
       "      <td>0</td>\n",
       "      <td>pv2k3d</td>\n",
       "    </tr>\n",
       "    <tr>\n",
       "      <th>3</th>\n",
       "      <td>pv2k3d</td>\n",
       "      <td>[Results Thread] 2021 UCI Road World Champions...</td>\n",
       "      <td>PelotonMod</td>\n",
       "      <td>1.632558e+09</td>\n",
       "      <td>34</td>\n",
       "      <td>0.97</td>\n",
       "      <td>he7541b</td>\n",
       "      <td>JustOneMoreBastard</td>\n",
       "      <td>great worlds for backstedt as a first year jun...</td>\n",
       "      <td>14</td>\n",
       "      <td>0</td>\n",
       "      <td>pv2k3d</td>\n",
       "    </tr>\n",
       "    <tr>\n",
       "      <th>4</th>\n",
       "      <td>pv2k3d</td>\n",
       "      <td>[Results Thread] 2021 UCI Road World Champions...</td>\n",
       "      <td>PelotonMod</td>\n",
       "      <td>1.632558e+09</td>\n",
       "      <td>34</td>\n",
       "      <td>0.97</td>\n",
       "      <td>he771uz</td>\n",
       "      <td>epi_counts</td>\n",
       "      <td>maybe also good to mention that linda riedmann...</td>\n",
       "      <td>14</td>\n",
       "      <td>0</td>\n",
       "      <td>pv2k3d</td>\n",
       "    </tr>\n",
       "  </tbody>\n",
       "</table>\n",
       "</div>"
      ],
      "text/plain": [
       "  post_id                                         post_title post_author  \\\n",
       "0  pv2k3d  [Results Thread] 2021 UCI Road World Champions...  PelotonMod   \n",
       "1  pv2k3d  [Results Thread] 2021 UCI Road World Champions...  PelotonMod   \n",
       "2  pv2k3d  [Results Thread] 2021 UCI Road World Champions...  PelotonMod   \n",
       "3  pv2k3d  [Results Thread] 2021 UCI Road World Champions...  PelotonMod   \n",
       "4  pv2k3d  [Results Thread] 2021 UCI Road World Champions...  PelotonMod   \n",
       "\n",
       "      post_time  post_score  post_ratio comment_id      comment_author  \\\n",
       "0  1.632558e+09          34        0.97    he79t95  childfromthefuture   \n",
       "1  1.632558e+09          34        0.97    he75ioc      dedfrmthneckup   \n",
       "2  1.632558e+09          34        0.97    he75jh5          epi_counts   \n",
       "3  1.632558e+09          34        0.97    he7541b  JustOneMoreBastard   \n",
       "4  1.632558e+09          34        0.97    he771uz          epi_counts   \n",
       "\n",
       "                                        comment_body  comment_score  \\\n",
       "0  if anyone has a clip of the final with magnus ...             19   \n",
       "1  listening to magnus commentate on that was pre...             19   \n",
       "2  very happy for backstedt, both zoey and magnus...             19   \n",
       "3  great worlds for backstedt as a first year jun...             14   \n",
       "4  maybe also good to mention that linda riedmann...             14   \n",
       "\n",
       "   comment_contriv parent_id  \n",
       "0                0    pv2k3d  \n",
       "1                0    pv2k3d  \n",
       "2                0    pv2k3d  \n",
       "3                0    pv2k3d  \n",
       "4                0    pv2k3d  "
      ]
     },
     "execution_count": 2,
     "metadata": {},
     "output_type": "execute_result"
    }
   ],
   "source": [
    "scraped_df = functions.scrape_reddit(5)  \n",
    "scraped_df.head()"
   ]
  },
  {
   "attachments": {},
   "cell_type": "markdown",
   "id": "shaped-nicholas",
   "metadata": {},
   "source": [
    "define the names you want to search for wout van aert, you might enter his name in a few different ways "
   ]
  },
  {
   "cell_type": "code",
   "execution_count": 3,
   "id": "everyday-grace",
   "metadata": {},
   "outputs": [
    {
     "name": "stdout",
     "output_type": "stream",
     "text": [
      "A total of 30 comments mentioned this rider\n"
     ]
    },
    {
     "data": {
      "image/png": "[encoded data removed]",
      "text/plain": [
       "<Figure size 864x576 with 1 Axes>"
      ]
     },
     "metadata": {
      "needs_background": "light"
     },
     "output_type": "display_data"
    }
   ],
   "source": [
    "names = ['Wout', 'WVA', 'Wout Van Aert', 'Van Aert'] # define the names you want to search as a list\n",
    "functions.get_rider_sentiment(scraped_df, names)\n"
   ]
  }
 ],
 "metadata": {
  "kernelspec": {
   "display_name": "Python 3",
   "language": "python",
   "name": "python3"
  },
  "language_info": {
   "codemirror_mode": {
    "name": "ipython",
    "version": 3
   },
   "file_extension": ".py",
   "mimetype": "text/x-python",
   "name": "python",
   "nbconvert_exporter": "python",
   "pygments_lexer": "ipython3",
   "version": "3.8.5"
  }
 },
 "nbformat": 4,
 "nbformat_minor": 5
}
